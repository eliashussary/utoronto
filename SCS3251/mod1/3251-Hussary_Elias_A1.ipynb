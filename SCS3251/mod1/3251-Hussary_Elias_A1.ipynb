{
 "cells": [
  {
   "cell_type": "markdown",
   "metadata": {},
   "source": [
    "## SC3251 - Module 1\n",
    "**Name:** Hussary, Elias   \n",
    "**Assignment:** SC3251 - Module 1  \n",
    "**Date:** 2018-05-23\n",
    "\n",
    "---"
   ]
  },
  {
   "cell_type": "code",
   "execution_count": 140,
   "metadata": {},
   "outputs": [],
   "source": [
    "%config IPCompleter.greedy=True # for better intellisense\n",
    "\n",
    "## Import necessary modules for this notebook.\n",
    "import matplotlib.pyplot as plt\n",
    "import pandas as pd\n",
    "import numpy as np\n",
    "from util import list_to_html_table "
   ]
  },
  {
   "cell_type": "markdown",
   "metadata": {},
   "source": [
    "#### Step 1 - Plot the Data\n",
    "Create side-by-side boxplots for the number of mosquitos in\n",
    "each group (beer vs water)"
   ]
  },
  {
   "cell_type": "code",
   "execution_count": 175,
   "metadata": {},
   "outputs": [
    {
     "data": {
      "text/plain": [
       "Text(0.5,0,'Treatment Type')"
      ]
     },
     "execution_count": 175,
     "metadata": {},
     "output_type": "execute_result"
    },
    {
     "data": {
      "image/png": "[encoded data removed]",
      "text/plain": [
       "<matplotlib.figure.Figure at 0x1e764243160>"
      ]
     },
     "metadata": {},
     "output_type": "display_data"
    }
   ],
   "source": [
    "# load and plot the data\n",
    "mosquitos_data = pd.read_csv('./mosquitos_data.csv')\n",
    "mosquitos_data.boxplot(by='Treatment', figsize=(15,6))\n",
    "\n",
    "# chart formatting\n",
    "plt.title('Mosquito Attraction, Beer vs Water')\n",
    "plt.suptitle('')\n",
    "plt.ylabel('Mosquito Count')\n",
    "plt.xlabel('Treatment Type')"
   ]
  },
  {
   "cell_type": "markdown",
   "metadata": {},
   "source": [
    "#### Step 2 - Analyze the Plot\n",
    "**_What does the graph reveal about the data for both groups?_**  \n",
    "The graph suggests that Mosquitos are more attracted to people who consume Beer compared to those who drink Water.\n",
    "\n",
    "**_Is there an association between beer consumption and attractiveness to mosquitos?_**  \n",
    "Yes, it appears that there is an association between Beer and the attractiveness to mosquitos."
   ]
  },
  {
   "cell_type": "markdown",
   "metadata": {},
   "source": [
    "#### Step 3 - Calculate the Statistics\n",
    "\n",
    "Calculate basic statistics measures for each group: \n",
    "- the mean, \n",
    "- median, and \n",
    "- standard deviation."
   ]
  },
  {
   "cell_type": "code",
   "execution_count": 4,
   "metadata": {},
   "outputs": [],
   "source": [
    "# filter to smaller sample sizes.\n",
    "beer_sample = mosquitos_data[mosquitos_data.Treatment == 'Beer']['Response']\n",
    "water_sample = mosquitos_data[mosquitos_data.Treatment == 'Water']['Response']"
   ]
  },
  {
   "cell_type": "code",
   "execution_count": 8,
   "metadata": {},
   "outputs": [
    {
     "data": {
      "text/html": [
       "<table><tr><td><b>Stat</b></td><td><b>Beer</b></td><td><b>Water</b></td><td><b>Diff</b></td></tr><tr><td>Mean</td><td>23.6</td><td>19.22222222222222</td><td>4.37777777777778</td></tr><tr><td>Median</td><td>24.0</td><td>20.0</td><td>4.0</td></tr><tr><td>STD</td><td>4.133198922545748</td><td>3.6711202899124045</td><td>0.4620786326333439</td></tr></table>"
      ],
      "text/plain": [
       "<IPython.core.display.HTML object>"
      ]
     },
     "metadata": {},
     "output_type": "display_data"
    }
   ],
   "source": [
    "# calc stats\n",
    "list_to_html_table([\n",
    "        ['<b>Stat</b>', '<b>Beer</b>', '<b>Water</b>', '<b>Diff</b>'],\n",
    "        ['Mean', beer_sample.mean(), water_sample.mean(), beer_sample.mean() - water_sample.mean()],\n",
    "        ['Median', beer_sample.median(), water_sample.median(), beer_sample.median() - water_sample.median()],\n",
    "        ['STD', beer_sample.std(),water_sample.std(), beer_sample.std() - water_sample.std()],\n",
    "])\n",
    "\n"
   ]
  },
  {
   "cell_type": "markdown",
   "metadata": {},
   "source": [
    "_**Explain the numbers**_  \n",
    "\n",
    "_Mean:_ On average, beer drinkers attracted _4.38_ more mosquitos than non-beer drinkers.\n",
    "\n",
    "_Median:_ The median value for both treatment samples are aligned with the mean, this also suggests that beer drinkers attract roughly _4_ more mosquitos than non-beer drinkers.  \n",
    "\n",
    "_STD:_ The standard deviation for both samples are almost equal. This indicates both treatment samples are reliable for comparison."
   ]
  },
  {
   "cell_type": "markdown",
   "metadata": {},
   "source": [
    "#### Bonus - Data Simulation\n",
    "\n",
    "Write the code to implement the data simulation demonstrated in this video; [\"Statistics Without the Agonizing Pain\"](https://youtu.be/5Dnw46eC-0o)."
   ]
  },
  {
   "cell_type": "code",
   "execution_count": 155,
   "metadata": {},
   "outputs": [],
   "source": [
    "# iteration variables\n",
    "sample_size = 8\n",
    "max_iter = 50000\n",
    "diff_list = []\n",
    "\n",
    "\n",
    "# do the loop\n",
    "while len(diff_list) < max_iter:\n",
    "    \n",
    "    # take random subset sample, frac=1 randomizes\n",
    "    data_subset = pd.concat([\n",
    "                                beer_sample.sample(sample_size), \n",
    "                                water_sample.sample(sample_size)\n",
    "                            ]).sample(frac=1)\n",
    "    \n",
    "    a_subset = data_subset.iloc[:8]\n",
    "    b_subset = data_subset.iloc[8:]\n",
    "    \n",
    "    # calc diff and push it to list\n",
    "    diff = round(a_subset.mean() - b_subset.mean(),1)\n",
    "    diff_list.append(diff)"
   ]
  },
  {
   "cell_type": "markdown",
   "metadata": {},
   "source": [
    "Count by unique occurrences."
   ]
  },
  {
   "cell_type": "code",
   "execution_count": 174,
   "metadata": {},
   "outputs": [
    {
     "data": {
      "text/plain": [
       "<matplotlib.axes._subplots.AxesSubplot at 0x1e764277ba8>"
      ]
     },
     "execution_count": 174,
     "metadata": {},
     "output_type": "execute_result"
    },
    {
     "data": {
      "image/png": "[encoded data removed]",
      "text/plain": [
       "<matplotlib.figure.Figure at 0x1e7642e00f0>"
      ]
     },
     "metadata": {},
     "output_type": "display_data"
    }
   ],
   "source": [
    "diff_df = pd.DataFrame({'diff':diff_list})\n",
    "diff_counts = diff_df['diff'].value_counts(sort=False).sort_index()\n",
    "diff_df = pd.cut(diff_list, bins=np.arange(-5,5,0.5))\n",
    "diff_counts = diff_df.value_counts()\n",
    "diff_counts.plot.bar(xticks=[-5,-2.5,0,2.5,5], figsize=(15,6))"
   ]
  }
 ],
 "metadata": {
  "kernelspec": {
   "display_name": "Python 3",
   "language": "python",
   "name": "python3"
  },
  "language_info": {
   "codemirror_mode": {
    "name": "ipython",
    "version": 3
   },
   "file_extension": ".py",
   "mimetype": "text/x-python",
   "name": "python",
   "nbconvert_exporter": "python",
   "pygments_lexer": "ipython3",
   "version": "3.6.4"
  }
 },
 "nbformat": 4,
 "nbformat_minor": 2
}
