{
 "cells": [
  {
   "cell_type": "markdown",
   "metadata": {},
   "source": [
    "## SC3251 - Module 1\n",
    "**Name:** Hussary, Elias   \n",
    "**Assignment:** SC3251 - Module 1  \n",
    "**Date:** 2018-05-23\n",
    "\n",
    "---"
   ]
  },
  {
   "cell_type": "code",
   "execution_count": 28,
   "metadata": {},
   "outputs": [],
   "source": [
    "%config IPCompleter.greedy=True # for better intellisense\n",
    "\n",
    "## Import necessary modules for this notebook.\n",
    "import matplotlib.pyplot as plt\n",
    "import pandas as pd\n",
    "from util import list_to_html_table "
   ]
  },
  {
   "cell_type": "markdown",
   "metadata": {},
   "source": [
    "#### Step 1 - Plot the Data\n",
    "Create side-by-side boxplots for the number of mosquitos in\n",
    "each group (beer vs water)"
   ]
  },
  {
   "cell_type": "code",
   "execution_count": 20,
   "metadata": {},
   "outputs": [
    {
     "data": {
      "text/plain": [
       "Text(0.5,0,'Treatment Type')"
      ]
     },
     "execution_count": 20,
     "metadata": {},
     "output_type": "execute_result"
    },
    {
     "data": {
      "image/png": "[encoded data removed]",
      "text/plain": [
       "<matplotlib.figure.Figure at 0x1e627f6d630>"
      ]
     },
     "metadata": {},
     "output_type": "display_data"
    }
   ],
   "source": [
    "# load and plot the data\n",
    "mosquitos_data = pd.read_csv('./mosquitos_data.csv')\n",
    "mosquitos_data.boxplot(by='Treatment')\n",
    "\n",
    "# chart formatting\n",
    "plt.title('Mosquito Attraction, Beer vs Water')\n",
    "plt.suptitle('')\n",
    "plt.ylabel('Mosquito Count')\n",
    "plt.xlabel('Treatment Type')"
   ]
  },
  {
   "cell_type": "markdown",
   "metadata": {},
   "source": [
    "#### Step 2 - Analyze the Plot\n",
    "**_What does the graph reveal about the data for both groups?_**  \n",
    "The graph suggests that Mosquitos are more attracted to people who consume Beer compared to those who drink Water.\n",
    "\n",
    "**_Is there an association between beer consumption and attractiveness to mosquitos?_**  \n",
    "Yes, it appears that there is an association between Beer and the attractiveness to mosquitos."
   ]
  },
  {
   "cell_type": "markdown",
   "metadata": {},
   "source": [
    "#### Step 3 - Calculate the Statistics\n"
   ]
  },
  {
   "cell_type": "markdown",
   "metadata": {},
   "source": [
    "Calculate basic statistics measures for each group: \n",
    "- the mean, \n",
    "- median, and \n",
    "- standard deviation."
   ]
  },
  {
   "cell_type": "code",
   "execution_count": 21,
   "metadata": {},
   "outputs": [],
   "source": [
    "# filter to smaller sample sizes.\n",
    "beer_sample = mosquitos_data[mosquitos_data.Treatment == 'Beer']['Response']\n",
    "water_sample = mosquitos_data[mosquitos_data.Treatment == 'Water']['Response']"
   ]
  },
  {
   "cell_type": "code",
   "execution_count": 40,
   "metadata": {},
   "outputs": [
    {
     "data": {
      "text/html": [
       "<table><tr><td><b>Stat</b></td><td><b>Beer</b></td><td><b>Water</b></td></tr><tr><td>Mean</td><td>23.6</td><td>19.22222222222222</td></tr><tr><td>Median</td><td>24.0</td><td>20.0</td></tr><tr><td>StdDev</td><td>4.133198922545748</td><td>3.6711202899124045</td></tr></table>"
      ],
      "text/plain": [
       "<IPython.core.display.HTML object>"
      ]
     },
     "metadata": {},
     "output_type": "display_data"
    }
   ],
   "source": [
    "# calc stats\n",
    "list_to_html_table(\n",
    "    [\n",
    "        ['<b>Stat</b>', '<b>Beer</b>', '<b>Water</b>'],\n",
    "        ['Mean', beer_sample.mean(), water_sample.mean()],\n",
    "        ['Median', beer_sample.median(), water_sample.median()],\n",
    "        ['StdDev', beer_sample.std(),water_sample.std()],\n",
    "    ]\n",
    ")\n",
    "\n"
   ]
  },
  {
   "cell_type": "markdown",
   "metadata": {},
   "source": [
    "_**Explain the numbers**_\n"
   ]
  },
  {
   "cell_type": "code",
   "execution_count": null,
   "metadata": {},
   "outputs": [],
   "source": []
  }
 ],
 "metadata": {
  "kernelspec": {
   "display_name": "Python 3",
   "language": "python",
   "name": "python3"
  },
  "language_info": {
   "codemirror_mode": {
    "name": "ipython",
    "version": 3
   },
   "file_extension": ".py",
   "mimetype": "text/x-python",
   "name": "python",
   "nbconvert_exporter": "python",
   "pygments_lexer": "ipython3",
   "version": "3.6.4"
  }
 },
 "nbformat": 4,
 "nbformat_minor": 2
}
