{
 "cells": [
  {
   "cell_type": "markdown",
   "metadata": {},
   "source": [
    "## SC3251 - Module 2\n",
    "**Name:** Hussary, Elias   \n",
    "**Assignment:** SC3251 - Module 2  \n",
    "**Date:** 2018-05-23\n",
    "\n",
    "---"
   ]
  },
  {
   "cell_type": "code",
   "execution_count": 191,
   "metadata": {},
   "outputs": [],
   "source": [
    "%config IPCompleter.greedy=True # for better intellisense\n",
    "\n",
    "## Import necessary modules for this notebook.\n",
    "from matplotlib import pyplot as plt, rcParams\n",
    "import pandas as pd\n",
    "import numpy as np\n",
    "from fractions import Fraction\n",
    "\n",
    "rcParams.update({'font.size': 16, 'figure.figsize': (20,10)}) # global formatting"
   ]
  },
  {
   "cell_type": "markdown",
   "metadata": {},
   "source": [
    "## Assignment Instructions\n",
    "Exercises 2.28, 2.34, 2.40 from 'OpenIntro Statistics' textbook.\n",
    "\n",
    "Bonus (3 points). Model Monty Hall problem to find chance to win. Present results graphically."
   ]
  },
  {
   "cell_type": "markdown",
   "metadata": {},
   "source": [
    "## 2.28 - Socks in a drawer.\n",
    "**Q:** In your sock drawer you have 4 blue, 5 gray, and 3 black socks. Half asleep one morning you grab 2 socks at random and put them on. \n",
    "Find the probability you end up wearing;\n",
    "* a) 2 blue socks\n",
    "* b) no gray socks\n",
    "* c) at least one black sock\n",
    "* d) a green sock\n",
    "* e) a pair of socks\n",
    "___"
   ]
  },
  {
   "cell_type": "code",
   "execution_count": 192,
   "metadata": {},
   "outputs": [
    {
     "data": {
      "text/plain": [
       "'Total Socks = 12'"
      ]
     },
     "execution_count": 192,
     "metadata": {},
     "output_type": "execute_result"
    }
   ],
   "source": [
    "# declare variables for 2.28\n",
    "blue_socks = 4\n",
    "gray_socks = 5\n",
    "black_socks = 3\n",
    "total_socks = blue_socks + gray_socks + black_socks\n",
    "f'Total Socks = {total_socks}'"
   ]
  },
  {
   "cell_type": "markdown",
   "metadata": {},
   "source": [
    "**A:** _a) 2 blue socks_"
   ]
  },
  {
   "cell_type": "markdown",
   "metadata": {},
   "source": [
    "The probability of wearing two blue socks is **9.09%**.\n",
    "\\begin{equation*}\n",
    "P(Blue1, Blue2)   = \\frac{4}{12} \\times \\frac{3}{11} = \\frac{12}{132} = 9.09\\%\n",
    "\\end{equation*}"
   ]
  },
  {
   "cell_type": "code",
   "execution_count": 193,
   "metadata": {},
   "outputs": [
    {
     "data": {
      "text/plain": [
       "'P = 9.09%'"
      ]
     },
     "execution_count": 193,
     "metadata": {},
     "output_type": "execute_result"
    }
   ],
   "source": [
    "p_first_blue = blue_socks / total_socks\n",
    "p_second_blue = (blue_socks - 1) / (total_socks - 1)\n",
    "\n",
    "p_two_blue = p_first_blue * p_second_blue\n",
    "f'P = {p_two_blue:.2%}'"
   ]
  },
  {
   "cell_type": "markdown",
   "metadata": {},
   "source": [
    "**A:** _b) no gray socks_"
   ]
  },
  {
   "cell_type": "markdown",
   "metadata": {},
   "source": [
    "The probability of wearing no gray socks is **31.82%**.\n",
    "\\begin{equation*}\n",
    "P(NoGray1, NoGray2)   = \\frac{7}{12} \\times \\frac{6}{11} = \\frac{42}{132} = 31.82\\%\n",
    "\\end{equation*}"
   ]
  },
  {
   "cell_type": "code",
   "execution_count": 194,
   "metadata": {},
   "outputs": [
    {
     "data": {
      "text/plain": [
       "'P = 31.82%'"
      ]
     },
     "execution_count": 194,
     "metadata": {},
     "output_type": "execute_result"
    }
   ],
   "source": [
    "non_gray_socks = blue_socks + black_socks\n",
    "p_first_no_gray =  non_gray_socks / total_socks\n",
    "p_second_no_gray = (non_gray_socks - 1) / (total_socks - 1)\n",
    "\n",
    "p_no_gray = p_first_no_gray * p_second_no_gray\n",
    "f'P = {p_no_gray:.2%}'"
   ]
  },
  {
   "cell_type": "markdown",
   "metadata": {},
   "source": [
    "**A:** _c) at least one black sock_"
   ]
  },
  {
   "cell_type": "markdown",
   "metadata": {},
   "source": [
    "The probability of wearing one black sock is **25.00%**.\n",
    "\\begin{equation*}\n",
    "P(OneBlackSock)   = \\frac{3}{12} = 25.00\\%\n",
    "\\end{equation*}"
   ]
  },
  {
   "cell_type": "code",
   "execution_count": 195,
   "metadata": {},
   "outputs": [
    {
     "data": {
      "text/plain": [
       "'P = 25.00%'"
      ]
     },
     "execution_count": 195,
     "metadata": {},
     "output_type": "execute_result"
    }
   ],
   "source": [
    "p_one_black_sock = black_socks / total_socks\n",
    "f'P = {p_one_black_sock:.2%}'"
   ]
  },
  {
   "cell_type": "markdown",
   "metadata": {},
   "source": [
    "**A:** _d) a green sock_"
   ]
  },
  {
   "cell_type": "markdown",
   "metadata": {},
   "source": [
    "The probability of wearing one green sock is **00.00%**.\n",
    "\\begin{equation*}\n",
    "P(OneGreenSock)   = \\frac{0}{12} = 00.00\\%\n",
    "\\end{equation*}"
   ]
  },
  {
   "cell_type": "code",
   "execution_count": 196,
   "metadata": {},
   "outputs": [
    {
     "data": {
      "text/plain": [
       "'P = 0.00%'"
      ]
     },
     "execution_count": 196,
     "metadata": {},
     "output_type": "execute_result"
    }
   ],
   "source": [
    "p_one_green_sock = 0 / total_socks\n",
    "f'P = {p_one_green_sock:.2%}'"
   ]
  },
  {
   "cell_type": "markdown",
   "metadata": {},
   "source": [
    "**A:** _e) a pair of socks_"
   ]
  },
  {
   "cell_type": "markdown",
   "metadata": {},
   "source": [
    "The probability of wearing one pair of socks is **28.79%**.\n",
    "\\begin{equation*}\n",
    "P(Blue1, Blue2)  + P(Gray1, Gray2) + P(Black1, Black2) \n",
    "\\\\\n",
    "= (\\frac{4}{12} \\times \\frac{3}{11} ) \n",
    "+ (\\frac{5}{12} \\times \\frac{4}{11} ) \n",
    "+ (\\frac{3}{12} \\times \\frac{2}{11} ) \n",
    "\\\\ \n",
    "= \\frac{12}{132} + \\frac{20}{132} + \\frac{6}{132}\n",
    "\\\\\n",
    "= \\frac{38}{132} = 28.79\\%\n",
    "\\end{equation*}"
   ]
  },
  {
   "cell_type": "code",
   "execution_count": 197,
   "metadata": {},
   "outputs": [
    {
     "data": {
      "text/plain": [
       "'P = 28.79%'"
      ]
     },
     "execution_count": 197,
     "metadata": {},
     "output_type": "execute_result"
    }
   ],
   "source": [
    "p_two_blue # see a)\n",
    "\n",
    "p_two_gray = (gray_socks / total_socks) * ((gray_socks - 1) / (total_socks -1))\n",
    "p_two_black = (black_socks / total_socks) * ((black_socks - 1) / (total_socks - 1))\n",
    "\n",
    "p_pair = p_two_blue + p_two_gray + p_two_black\n",
    "f'P = {p_pair:.2%}'"
   ]
  },
  {
   "cell_type": "markdown",
   "metadata": {},
   "source": [
    "## 2.34 - Ace of clubs wins.\n",
    "**Q:** Consider the following card game with a well-shuffled deck of cards. If you draw a red card, you win nothing. \n",
    "If you get a spade, you win \\$5. For any club, you win \\$10 plus an extra \\$20 for the ace of clubs. \n",
    "* a) Create a probability model for the amount you win at this game. Also, ﬁnd the expected winnings for a single game and the standard deviation of the winnings. \n",
    "* b) What is the maximum amount you would be willing to pay to play this game? Explain your reasoning.  \n",
    "___"
   ]
  },
  {
   "cell_type": "markdown",
   "metadata": {},
   "source": [
    "**A:** _a) Create a probability model for the amount you win at this game. Also, ﬁnd the expected winnings for a single game and the standard deviation of the winnings_"
   ]
  },
  {
   "cell_type": "markdown",
   "metadata": {},
   "source": [
    "#### Probability Model\n",
    "| **Card Type**      | $\\heartsuit$  or $\\diamondsuit$  | $\\spadesuit$  | $\\clubsuit$ |  $\\clubsuit$ + Ace |\n",
    "| ------------------ |:-------------------------------: | :------------:| :---------: | :----------------: |\n",
    "| **Win**            | \\$0                              | \\$5           | \\$10        | \\$30               |\n",
    "| **P**              | 26 / 52                          | 13 / 52       | 12 / 52     | 1 / 52             |\n",
    "| **P%**             | 50%                              | 25%           | 23.07%      | 1.92%              |\n"
   ]
  },
  {
   "cell_type": "markdown",
   "metadata": {},
   "source": [
    "\\begin{equation*}\n",
    "ExpectedWinnings = \\$0 \\big( \\frac{26}{52} \\big) \n",
    "  + \\$5 \\big( \\frac{13}{52} \\big) \n",
    "  + \\$10 \\big( \\frac{12}{52} \\big) \n",
    "  + \\$30 \\big( \\frac{1}{52} \\big) \n",
    "  \\\\\n",
    "ExpectedWinnings = \\$4.13\n",
    "\\end{equation*}"
   ]
  },
  {
   "cell_type": "code",
   "execution_count": 198,
   "metadata": {},
   "outputs": [
    {
     "data": {
      "text/html": [
       "<div>\n",
       "<style scoped>\n",
       "    .dataframe tbody tr th:only-of-type {\n",
       "        vertical-align: middle;\n",
       "    }\n",
       "\n",
       "    .dataframe tbody tr th {\n",
       "        vertical-align: top;\n",
       "    }\n",
       "\n",
       "    .dataframe thead th {\n",
       "        text-align: right;\n",
       "    }\n",
       "</style>\n",
       "<table border=\"1\" class=\"dataframe\">\n",
       "  <thead>\n",
       "    <tr style=\"text-align: right;\">\n",
       "      <th></th>\n",
       "      <th>card_type</th>\n",
       "      <th>payout</th>\n",
       "      <th>probability</th>\n",
       "      <th>expected_winnings</th>\n",
       "      <th>variance</th>\n",
       "    </tr>\n",
       "  </thead>\n",
       "  <tbody>\n",
       "    <tr>\n",
       "      <th>0</th>\n",
       "      <td>red_card</td>\n",
       "      <td>0.0</td>\n",
       "      <td>0.500000</td>\n",
       "      <td>0.000000</td>\n",
       "      <td>8.547522</td>\n",
       "    </tr>\n",
       "    <tr>\n",
       "      <th>1</th>\n",
       "      <td>spade</td>\n",
       "      <td>5.0</td>\n",
       "      <td>0.250000</td>\n",
       "      <td>1.250000</td>\n",
       "      <td>0.187223</td>\n",
       "    </tr>\n",
       "    <tr>\n",
       "      <th>2</th>\n",
       "      <td>club</td>\n",
       "      <td>10.0</td>\n",
       "      <td>0.230769</td>\n",
       "      <td>2.307692</td>\n",
       "      <td>7.939093</td>\n",
       "    </tr>\n",
       "    <tr>\n",
       "      <th>3</th>\n",
       "      <td>club_ace</td>\n",
       "      <td>30.0</td>\n",
       "      <td>0.019231</td>\n",
       "      <td>0.576923</td>\n",
       "      <td>12.865733</td>\n",
       "    </tr>\n",
       "  </tbody>\n",
       "</table>\n",
       "</div>"
      ],
      "text/plain": [
       "  card_type  payout  probability  expected_winnings   variance\n",
       "0  red_card     0.0     0.500000           0.000000   8.547522\n",
       "1     spade     5.0     0.250000           1.250000   0.187223\n",
       "2      club    10.0     0.230769           2.307692   7.939093\n",
       "3  club_ace    30.0     0.019231           0.576923  12.865733"
      ]
     },
     "execution_count": 198,
     "metadata": {},
     "output_type": "execute_result"
    }
   ],
   "source": [
    "# define probability card_model\n",
    "card_model = pd.DataFrame({\n",
    "        'card_type': ['red_card', 'spade', 'club', 'club_ace'],\n",
    "        'probability': [26/52, 13/52, 12/52, 1/52],\n",
    "        'payout': [0.00, 5.00, 10.00, 30.00]\n",
    "    })\n",
    "\n",
    "# compute expected winnings\n",
    "card_model['expected_winnings'] = card_model['probability'] * card_model['payout']\n",
    "total_expected_winnings = card_model['expected_winnings'].sum()\n",
    "\n",
    "# compute variance for later use in std\n",
    "# variance = squared distance from the mean\n",
    "# stdev    = sqrt of variance\n",
    "card_model['variance'] = ( (card_model['payout'] - total_expected_winnings) ** 2 ) * card_model['probability']\n",
    "winnings_std = np.sqrt(card_model['variance'].sum())\n",
    "\n",
    "card_model"
   ]
  },
  {
   "cell_type": "code",
   "execution_count": 199,
   "metadata": {},
   "outputs": [
    {
     "data": {
      "text/plain": [
       "'ExpectedWinnings = $4.13'"
      ]
     },
     "execution_count": 199,
     "metadata": {},
     "output_type": "execute_result"
    }
   ],
   "source": [
    "f'ExpectedWinnings = ${total_expected_winnings:.2f}' "
   ]
  },
  {
   "cell_type": "code",
   "execution_count": 200,
   "metadata": {},
   "outputs": [
    {
     "data": {
      "text/plain": [
       "'WinningsSTD = $5.44'"
      ]
     },
     "execution_count": 200,
     "metadata": {},
     "output_type": "execute_result"
    }
   ],
   "source": [
    "f'WinningsSTD = ${winnings_std:.2f}'"
   ]
  },
  {
   "cell_type": "markdown",
   "metadata": {},
   "source": [
    "**A:** _b) What is the maximum amount you would be willing to pay to play this game? Explain your reasoning._\n",
    "   \n",
    "I would at most spend \\$5.00 on this game as there is a 50% probability of winning some monetary value. In addition to this, \\$5.00 is the minimum and most probable prize.\n",
    "\n",
    "\\begin{equation}\n",
    "P(Winning) = \\frac{26}{52} = \\frac{1}{2} = 50\\%\n",
    "\\end{equation}"
   ]
  },
  {
   "cell_type": "markdown",
   "metadata": {},
   "source": [
    "## 2.40 - European roulette. \n",
    "**Q:** The game of European roulette involves spinning a wheel with 37 slots: 18 red, 18 black, and 1 green. A ball is spun onto the wheel and will eventually land in a slot, where each slot has an equal chance of capturing the ball. Gamblers can place bets on red or black. If the ball lands on their color, they double their money. If it lands on another color, they lose their money.\n",
    "* a) Suppose you play roulette and bet \\$3 on a single round. What is the expected value and standard deviation of your total winnings?   \n",
    "* b) Suppose you bet \\$1 in three different rounds. What is the expected value and standard deviation of your total winnings? \n",
    "* c) How do your answers to parts (a) and (b) compare? What does this say about the riskiness of the two games?\n",
    "___"
   ]
  },
  {
   "cell_type": "code",
   "execution_count": null,
   "metadata": {},
   "outputs": [],
   "source": []
  }
 ],
 "metadata": {
  "kernelspec": {
   "display_name": "Python 3",
   "language": "python",
   "name": "python3"
  },
  "language_info": {
   "codemirror_mode": {
    "name": "ipython",
    "version": 3
   },
   "file_extension": ".py",
   "mimetype": "text/x-python",
   "name": "python",
   "nbconvert_exporter": "python",
   "pygments_lexer": "ipython3",
   "version": "3.6.4"
  }
 },
 "nbformat": 4,
 "nbformat_minor": 2
}
