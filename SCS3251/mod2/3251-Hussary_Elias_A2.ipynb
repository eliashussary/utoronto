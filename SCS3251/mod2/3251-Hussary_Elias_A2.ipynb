{
 "cells": [
  {
   "cell_type": "markdown",
   "metadata": {},
   "source": [
    "## SC3251 - Module 2\n",
    "**Name:** Hussary, Elias   \n",
    "**Assignment:** SC3251 - Module 2  \n",
    "**Date:** 2018-05-23\n",
    "\n",
    "---"
   ]
  },
  {
   "cell_type": "code",
   "execution_count": 22,
   "metadata": {},
   "outputs": [],
   "source": [
    "%config IPCompleter.greedy=True # for better intellisense\n",
    "\n",
    "## Import necessary modules for this notebook.\n",
    "from matplotlib import pyplot as plt, rcParams\n",
    "import pandas as pd\n",
    "import numpy as np\n",
    "from fractions import Fraction\n",
    "\n",
    "rcParams.update({'font.size': 16, 'figure.figsize': (20,10)}) # global formatting"
   ]
  },
  {
   "cell_type": "markdown",
   "metadata": {},
   "source": [
    "### Assignment Instructions\n",
    "Exercises 2.28, 2.34, 2.40 from 'OpenIntro Statistics' textbook.\n",
    "\n",
    "Bonus (3 points). Model Monty Hall problem to find chance to win. Present results graphically."
   ]
  },
  {
   "cell_type": "markdown",
   "metadata": {},
   "source": [
    "### 2.28 - Socks in a drawer.\n",
    "In your sock drawer you have 4 blue, 5 gray, and 3 black socks. Half asleep one morning you grab 2 socks at random and put them on. \n",
    "Find the probability you end up wearing;\n",
    "* (a) 2 blue socks \n",
    "* (b) no gray socks \n",
    "* (c) at least 1 black sock \n",
    "* (d) a green sock \n",
    "* (e) matching socks"
   ]
  },
  {
   "cell_type": "code",
   "execution_count": 49,
   "metadata": {},
   "outputs": [
    {
     "data": {
      "text/plain": [
       "'Total Socks = 12'"
      ]
     },
     "execution_count": 49,
     "metadata": {},
     "output_type": "execute_result"
    }
   ],
   "source": [
    "# declare variables for 2.28\n",
    "blue_socks = 4\n",
    "gray_socks = 5\n",
    "black_socks = 3\n",
    "total_socks = blue_socks + gray_socks + black_socks\n",
    "f'Total Socks = {total_socks}'"
   ]
  },
  {
   "cell_type": "code",
   "execution_count": 48,
   "metadata": {},
   "outputs": [
    {
     "data": {
      "text/plain": [
       "'P = 9.09%'"
      ]
     },
     "execution_count": 48,
     "metadata": {},
     "output_type": "execute_result"
    }
   ],
   "source": [
    "# a) blue socks\n",
    "p_first_blue = 4 / 12\n",
    "p_second_blue = 3 / 11\n",
    "\n",
    "p_two_blue = p_first_blue * p_second_blue\n",
    "f'P = {p_two_blue:.2%}'"
   ]
  },
  {
   "cell_type": "markdown",
   "metadata": {},
   "source": [
    "\\begin{equation*}\n",
    "P(Blue1, Blue2)   = \\frac{4}{12} \\times \\frac{3}{11} = \\frac{12}{132} = 9.09\\%\n",
    "\\end{equation*}"
   ]
  },
  {
   "cell_type": "markdown",
   "metadata": {},
   "source": [
    "a) The probability of wearing two blue socks is **9.09%**."
   ]
  },
  {
   "cell_type": "code",
   "execution_count": 52,
   "metadata": {},
   "outputs": [
    {
     "data": {
      "text/plain": [
       "'P = 31.82%'"
      ]
     },
     "execution_count": 52,
     "metadata": {},
     "output_type": "execute_result"
    }
   ],
   "source": [
    "# b) no gray socks\n",
    "p_first_no_gray = 7 / 12\n",
    "p_second_no_gray = 6 / 11\n",
    "\n",
    "p_no_gray = p_first_no_gray * p_second_no_gray\n",
    "f'P = {p_no_gray:.2%}'"
   ]
  },
  {
   "cell_type": "markdown",
   "metadata": {},
   "source": [
    "\\begin{equation*}\n",
    "P(NoGray1, NoGray2)   = \\frac{7}{12} \\times \\frac{6}{11} = \\frac{42}{132} = 31.82\\%\n",
    "\\end{equation*}"
   ]
  },
  {
   "cell_type": "markdown",
   "metadata": {},
   "source": [
    "a) The probability of wearing no gray socks is **31.82%**."
   ]
  },
  {
   "cell_type": "markdown",
   "metadata": {},
   "source": [
    "### 2.34 - Ace of clubs wins.\n",
    "Consider the following card game with a well-shuffled deck of cards. If you draw a red card, you win nothing. \n",
    "If you get a spade, you win \\$5. For any club, you win \\$10 plus an extra \\$20 for the ace of clubs. \n",
    "* (a) Create a probability model for the amount you win at this game. Also, ﬁnd the expected winnings for a single game and the standard deviation of the winnings. \n",
    "* (b) What is the maximum amount you would be willing to pay to play this game? Explain your reasoning."
   ]
  },
  {
   "cell_type": "markdown",
   "metadata": {},
   "source": [
    "### 2.40 - European roulette. \n",
    "The game of European roulette involves spinning a wheel with 37 slots: 18 red, 18 black, and 1 green. A ball is spun onto the wheel and will eventually land in a slot, where each slot has an equal chance of capturing the ball. Gamblers can place bets on red or black. If the ball lands on their color, they double their money. If it lands on another color, they lose their money.\n",
    "* (a) Suppose you play roulette and bet \\$3 on a single round. What is the expected value and standard deviation of your total winnings?   \n",
    "* (b) Suppose you bet \\$1 in three different rounds. What is the expected value and standard deviation of your total winnings? \n",
    "* (c) How do your answers to parts (a) and (b) compare? What does this say about the riskiness of the two games?"
   ]
  }
 ],
 "metadata": {
  "kernelspec": {
   "display_name": "Python 3",
   "language": "python",
   "name": "python3"
  },
  "language_info": {
   "codemirror_mode": {
    "name": "ipython",
    "version": 3
   },
   "file_extension": ".py",
   "mimetype": "text/x-python",
   "name": "python",
   "nbconvert_exporter": "python",
   "pygments_lexer": "ipython3",
   "version": "3.6.4"
  }
 },
 "nbformat": 4,
 "nbformat_minor": 2
}
