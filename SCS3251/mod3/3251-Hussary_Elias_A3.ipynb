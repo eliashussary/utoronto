{
 "cells": [
  {
   "cell_type": "markdown",
   "metadata": {},
   "source": [
    "## SC3251 - Module 3\n",
    "**Name:** Hussary, Elias   \n",
    "**Assignment:** SC3251 - Module 3  \n",
    "**Date:** 2018-06-11\n",
    "\n",
    "---"
   ]
  },
  {
   "cell_type": "markdown",
   "metadata": {},
   "source": [
    "### Assignment Instructions\n",
    "Exercises 3.8, 3.17, 3.31, 3.41, 3.44 from Chapter 3 OpenIntro Statistics textbook.\n",
    "\n",
    "Bonus(3 points).  Take frequency distribution of your choice. For example, distribution of mean difference generated in mosquito assignment can be used. Try to find probability distribution function that best describe the distribution. Present probability distribution function (pdf) and cumulative distribution function (cdf) graphically. (Note: you can try probability distribution functions from 'scipy.stats' Python library)."
   ]
  },
  {
   "cell_type": "code",
   "execution_count": 30,
   "metadata": {},
   "outputs": [],
   "source": [
    "%config IPCompleter.greedy=True # for better intellisense\n",
    "from scipy import stats, special\n",
    "import numpy as np\n",
    "from matplotlib import pyplot as plt, rcParams\n",
    "import pandas as pd\n",
    "import seaborn as sns\n",
    "import math\n",
    "rcParams.update({'font.size': 16, 'figure.figsize': (10,6)}) # global formatting"
   ]
  },
  {
   "cell_type": "markdown",
   "metadata": {},
   "source": [
    "___\n",
    "### Q: 3.8 The Capital Asset Pricing Model.  \n",
    "The Capital Asset Pricing Model (CAPM) is a financial model that assumes returns on a portfolio are normally distributed. Suppose a portfolio has an average annual return of 14.7% (i.e. an average gain of 14.7%) with a standard deviation of 33%. A return of 0% means the value of the portfolio doesn’t change, a negative return means that the portfolio loses money, and a positive return means that the portfolio gains money.\n",
    "\n",
    "(a) What percent of years does this portfolio lose money, i.e. have a return less than 0%?    \n",
    "(b) What is the cutoff for the highest 15% of annual returns with this portfolio? \n",
    "\n",
    "(Page 159). "
   ]
  },
  {
   "cell_type": "code",
   "execution_count": 63,
   "metadata": {},
   "outputs": [
    {
     "data": {
      "text/plain": [
       "0.3279956507031998"
      ]
     },
     "execution_count": 63,
     "metadata": {},
     "output_type": "execute_result"
    }
   ],
   "source": [
    "# part a\n",
    "capm = stats.norm(14.7,33)\n",
    "capm.cdf(0)"
   ]
  },
  {
   "cell_type": "markdown",
   "metadata": {},
   "source": [
    "(a) What percent of years does this portfolio lose money, i.e. have a return less than 0%?    \n",
    "**A:** The portfolio loses money for 32.79% of the years."
   ]
  },
  {
   "cell_type": "code",
   "execution_count": 64,
   "metadata": {},
   "outputs": [
    {
     "data": {
      "text/plain": [
       "48.90230185329506"
      ]
     },
     "execution_count": 64,
     "metadata": {},
     "output_type": "execute_result"
    }
   ],
   "source": [
    "# part b\n",
    "capm.ppf(0.85)"
   ]
  },
  {
   "cell_type": "markdown",
   "metadata": {},
   "source": [
    "(b) What is the cutoff for the highest 15% of annual returns with this portfolio?  \n",
    "**A:** The cutoff for the highest 15% of annual returns is 48.90%."
   ]
  },
  {
   "cell_type": "markdown",
   "metadata": {},
   "source": [
    "___\n",
    "### Q: 3.17 Scores on stats final.     \n",
    "Below are final exam scores of 20 Introductory Statistics students.   \n",
    "1. 57, 2. 66, 3. 69, 4. 71, 5. 72, 6. 73, 7. 74, 8. 77, 9. 78, 10. 78, 11. 79, 12. 79, 13. 81, 14. 81, 15. 82, 16. 83, 17. 83, 18. 88, 19. 89, 20. 94   \n",
    "\n",
    "(a) The mean score is 77.7 points. with a standard deviation of 8.44 points. Use this information to determine if the scores approximately follow the 68-95-99.7% Rule.   \n",
    "(b) Do these data appear to follow a normal distribution? Explain your reasoning using the graphs provided below.  \n",
    "\n",
    "(Page 161). "
   ]
  },
  {
   "cell_type": "code",
   "execution_count": 27,
   "metadata": {},
   "outputs": [],
   "source": [
    "# part a\n",
    "exam_scores = np.array([57, 66, 69, 71, 72, 73, 74, 77, 78, 78, 79, 79, 81, 81, 82, 83, 83, 88, 89, 94])\n",
    "exam_zscores = stats.zscore(exam_scores)\n",
    "exam_count = len(exam_scores)"
   ]
  },
  {
   "cell_type": "markdown",
   "metadata": {},
   "source": [
    "The 68-85-99.7% states the following;\n",
    "* 68% of results should fall within Z = -1 and Z = 1  \n",
    "* 95% of results should fall within Z = -2 and Z = 2\n",
    "* 99.7% of results should fall within Z = -3 and Z = 3"
   ]
  },
  {
   "cell_type": "code",
   "execution_count": 34,
   "metadata": {},
   "outputs": [
    {
     "name": "stdout",
     "output_type": "stream",
     "text": [
      "0.7 0.95 1.0\n"
     ]
    }
   ],
   "source": [
    "exam_r1 = ((exam_zscores >= -1) & (exam_zscores <= 1)).sum() / exam_count\n",
    "exam_r2 = ((exam_zscores >= -2) & (exam_zscores <= 2)).sum() / exam_count\n",
    "exam_r3 = ((exam_zscores >= -3) & (exam_zscores <= 3)).sum() / exam_count\n",
    "\n",
    "print(exam_r1, exam_r2, exam_r3)"
   ]
  },
  {
   "cell_type": "markdown",
   "metadata": {},
   "source": [
    "(a) The mean score is 77.7 points. with a standard deviation of 8.44 points. Use this information to determine if the scores approximately follow the 68-95-99.7% Rule.  \n",
    "**A:** The scores do in fact follow the 68-95-99 rule well. The actual results are as follows; 70-95-100"
   ]
  },
  {
   "cell_type": "code",
   "execution_count": 46,
   "metadata": {},
   "outputs": [
    {
     "data": {
      "image/png": "[encoded data removed]",
      "text/plain": [
       "<matplotlib.figure.Figure at 0x24f89908d30>"
      ]
     },
     "metadata": {},
     "output_type": "display_data"
    }
   ],
   "source": [
    "# part b\n",
    "pdf = stats.norm.pdf(exam_scores, 77.7,8.44)\n",
    "plt.plot(exam_scores, pdf)\n",
    "plt.hist(exam_scores, normed=True)\n",
    "plt.show()"
   ]
  },
  {
   "cell_type": "markdown",
   "metadata": {},
   "source": [
    "(b) Do these data appear to follow a normal distribution? Explain your reasoning using the graphs provided below.  \n",
    "**A:** Yes the data appears to follow a normal distribution. The results histogram and probability distribution are nearly identical. "
   ]
  },
  {
   "cell_type": "markdown",
   "metadata": {},
   "source": [
    "___\n",
    "### Q: 3.31 Game of dreidel.   \n",
    "A dreidel is a four-sided spinning top with the Hebrew letters nun, gimel, hei, and shin, one on each side. Each side is equally likely to come up in a single spin of the dreidel. Suppose you spin a dreidel three times. Calculate the probability of getting  \n",
    "(a) at least one nun?  \n",
    "(b) exactly 2 nuns?  \n",
    "(c) exactly 1 hei?  \n",
    "(d) at most 2 gimel s?\n",
    "\n",
    "(Page 164). "
   ]
  },
  {
   "cell_type": "code",
   "execution_count": 191,
   "metadata": {},
   "outputs": [],
   "source": [
    "# part a\n",
    "n, p, d_size = 3, 0.25, 10000\n",
    "\n",
    "d_binom = stats.binom(n,p)\n",
    "\n",
    "# simulate\n",
    "d_trials = np.random.binomial(n, p, d_size) "
   ]
  },
  {
   "cell_type": "code",
   "execution_count": 192,
   "metadata": {},
   "outputs": [
    {
     "name": "stdout",
     "output_type": "stream",
     "text": [
      "Actual:  0.578125 Tested:  0.5811999999999999\n"
     ]
    }
   ],
   "source": [
    "print('Actual: ', 1 - d_binom.pmf(0), 'Tested: ', 1 - (sum(d_trials == 0) / d_size ))"
   ]
  },
  {
   "cell_type": "markdown",
   "metadata": {},
   "source": [
    "(a) at least one nun?  \n",
    "**A:** The probability of spinning a nun is approximately 57.81%."
   ]
  },
  {
   "cell_type": "code",
   "execution_count": 193,
   "metadata": {},
   "outputs": [
    {
     "name": "stdout",
     "output_type": "stream",
     "text": [
      "Actual:  0.140625 Tested:  0.1354\n"
     ]
    }
   ],
   "source": [
    "print('Actual: ', d_binom.pmf(2), 'Tested: ', (sum(d_trials == 2) / d_size))"
   ]
  },
  {
   "cell_type": "markdown",
   "metadata": {},
   "source": [
    "(b) exactly 2 nuns?   \n",
    "**A:** The probability of spinning a nun is approximately 14.06%."
   ]
  },
  {
   "cell_type": "code",
   "execution_count": 194,
   "metadata": {},
   "outputs": [
    {
     "name": "stdout",
     "output_type": "stream",
     "text": [
      "Actual:  0.421875 Tested:  0.4311\n"
     ]
    }
   ],
   "source": [
    "print('Actual: ', d_binom.pmf(1),'Tested: ', (sum(d_trials == 1) / d_size))"
   ]
  },
  {
   "cell_type": "markdown",
   "metadata": {},
   "source": [
    "(c) exactly 1 hei?   \n",
    "**A:** The probability of spinning a nun is approximately 42.18%."
   ]
  },
  {
   "cell_type": "code",
   "execution_count": 195,
   "metadata": {},
   "outputs": [
    {
     "name": "stdout",
     "output_type": "stream",
     "text": [
      "Actual:  0.984375 Tested:  0.9853\n"
     ]
    }
   ],
   "source": [
    "print('Actual: ', 1 - d_binom.pmf(3),'Tested: ', 1 - (sum(d_trials == 3) / d_size))"
   ]
  },
  {
   "cell_type": "markdown",
   "metadata": {},
   "source": [
    "(d) at most 2 gimels?  \n",
    "**A:** The probability of spinning at most 2 gimels is approximately 98.43%."
   ]
  },
  {
   "cell_type": "markdown",
   "metadata": {},
   "source": [
    "___\n",
    "### Q: 3.41 Sampling at school.  \n",
    "For a sociology class project you are asked to conduct a survey on 20 students at your school. You decide to stand outside of your dorm’s cafeteria and conduct the survey on a random sample of 20 students leaving the cafeteria after dinner one evening. Your dorm is comprised of 45% males and 55% females.  \n",
    "(a) Which probability model is most appropriate for calculating the probability that the 4th person you survey is the 2nd female? Explain.  \n",
    "(b) Compute the probability from part (a).   \n",
    "(c) The three possible scenarios that lead to 4th person you survey being the 2nd female are  \n",
    "{M,M, F, F}, {M, F,M, F}, {F,M,M, F}   \n",
    "One common feature among these scenarios is that the last trial is always female. In the first three trials there are 2 males and 1 female. Use the binomial coefficient to confirm that there are 3 ways of ordering 2 males and 1 female.  \n",
    "(d) Use the findings presented in part (c) to explain why the formula for the coe\"cient for the negative binomial is !n!1 k!1 \" while the formula for the binomial coeffcient is !n k \".\n",
    "\n",
    "(Page 166). "
   ]
  },
  {
   "cell_type": "markdown",
   "metadata": {},
   "source": [
    "(a) Which probability model is most appropriate for calculating the probability that the 4th person you survey is the 2nd female? Explain.   \n",
    "**A:** You would use *negative binomial distribution* as this model allows you to describe the probability of observing the *k*<sup>th</sup> success on a defined number of trials."
   ]
  },
  {
   "cell_type": "code",
   "execution_count": 187,
   "metadata": {},
   "outputs": [],
   "source": [
    "k, n, p, s_size = 2, 4, 0.55, 10000\n",
    "\n",
    "s_trials = np.random.negative_binomial(n, p, s_size)\n",
    "s_nbinom = stats.nbinom(n, p)"
   ]
  },
  {
   "cell_type": "code",
   "execution_count": 188,
   "metadata": {},
   "outputs": [
    {
     "name": "stdout",
     "output_type": "stream",
     "text": [
      "Actual:  0.18530015624999993 Tested:  0.1826\n"
     ]
    }
   ],
   "source": [
    "print('Actual: ', s_nbinom.pmf(k), 'Tested: ', (sum(s_trials == k) / s_size ))"
   ]
  },
  {
   "cell_type": "markdown",
   "metadata": {},
   "source": [
    "(b) Compute the probability from part (a).  \n",
    "**A:** The probability that the 4th person you survey is the 2nd femail is 18.53%."
   ]
  },
  {
   "cell_type": "code",
   "execution_count": 183,
   "metadata": {},
   "outputs": [
    {
     "data": {
      "text/plain": [
       "3.0"
      ]
     },
     "execution_count": 183,
     "metadata": {},
     "output_type": "execute_result"
    }
   ],
   "source": [
    "special.binom(3,1)"
   ]
  },
  {
   "cell_type": "markdown",
   "metadata": {},
   "source": [
    "\\begin{align}\n",
    "\\binom{n}{k} = \\frac{n!}{k! (n-k)!}\n",
    "\\end{align}\n",
    "\n",
    "\\begin{align}\n",
    "\\binom{3}{1} = \\frac{3!}{1! (3-1)!} = 3\n",
    "\\end{align}\n",
    "  \n",
    "(c) Use the binomial coefficient to confirm that there are 3 ways of ordering 2 males and 1 female.  \n",
    "**A:** The binomial coefficient confirms there are 3 ways of ordering 2 males and 1 female."
   ]
  },
  {
   "cell_type": "markdown",
   "metadata": {},
   "source": [
    "(d) Use the findings presented in part (c) to explain why the formula for the coefficient for the negative binomial is (n-1 / k-1) while the formula for the binomial coefficient is (n / k).  \n",
    "**A:** Since we are trying to arrive at *P* bounded by the number of trials, *n*, upon and number of successful occurences, *k*, it is important to know how many ways we can come to a successful occurrence."
   ]
  },
  {
   "cell_type": "markdown",
   "metadata": {},
   "source": [
    "___\n",
    "### Q: 3.44 Stenographer's typos.  \n",
    "A very skilled court stenographer makes one typographical error (typo) per hour on average.  \n",
    "(a) What probability distribution is most appropriate for calculating the probability of a given number of typos this stenographer makes in an hour?  \n",
    "(b) What are the mean and the standard deviation of the number of typos this stenographer makes?  \n",
    "(c) Would it be considered unusual if this stenographer made 4 typos in a given hour?  \n",
    "(d) Calculate the probability that this stenographer makes at most 2 typos in a given hour.\n",
    "\n",
    "(Page 167). "
   ]
  },
  {
   "cell_type": "markdown",
   "metadata": {},
   "source": [
    "(a) What probability distribution is most appropriate for calculating the probability of a given number of typos this stenographer makes in an hour?  \n",
    "**A:** Given that we were only provided a rate variable I would use the poisson distribution."
   ]
  },
  {
   "cell_type": "code",
   "execution_count": 196,
   "metadata": {},
   "outputs": [
    {
     "data": {
      "text/plain": [
       "1.0"
      ]
     },
     "execution_count": 196,
     "metadata": {},
     "output_type": "execute_result"
    }
   ],
   "source": [
    "st_mean = 1\n",
    "np.sqrt(st_mean)"
   ]
  },
  {
   "cell_type": "markdown",
   "metadata": {},
   "source": [
    "(b) What are the mean and the standard deviation of the number of typos this stenographer makes?  \n",
    "**A:** The average was provided for us; Mean = 1. The standard deviation is; STD = 1"
   ]
  },
  {
   "cell_type": "markdown",
   "metadata": {},
   "source": [
    "(c) Would it be considered unusual if this stenographer made 4 typos in a given hour?  \n",
    "**A:** Yes, this hour would be considered an outlier. Computing a z-score to this indicates it deviates from the mean by 3 degrees."
   ]
  },
  {
   "cell_type": "code",
   "execution_count": 207,
   "metadata": {},
   "outputs": [
    {
     "data": {
      "text/plain": [
       "0.9158"
      ]
     },
     "execution_count": 207,
     "metadata": {},
     "output_type": "execute_result"
    }
   ],
   "source": [
    "steno_poisson = np.random.poisson(1,10000)\n",
    "\n",
    "sum(steno_poisson <= 2 ) / 10000"
   ]
  },
  {
   "cell_type": "markdown",
   "metadata": {},
   "source": [
    "(d) Calculate the probability that this stenographer makes at most 2 typos in a given hour.  \n",
    "**A:** The stenographer will make at most make 2 errors 91.58%."
   ]
  },
  {
   "cell_type": "markdown",
   "metadata": {},
   "source": [
    "___\n",
    "### Q: Bonus.\n",
    "Bonus(3 points). Take frequency distribution of your choice. For example, distribution of mean difference generated in mosquito assignment can be used. Try to find probability distribution function that best describe the distribution. Present probability distribution function (pdf) and cumulative distribution function (cdf) graphically. (Note: you can try probability distribution functions from 'scipy.stats' Python library)."
   ]
  },
  {
   "cell_type": "code",
   "execution_count": 263,
   "metadata": {},
   "outputs": [],
   "source": [
    "mosquitos_data = pd.read_csv('./mosquitos_data.csv')\n",
    "\n",
    "sample_size = math.floor(len(mosquitos_data) / 2)\n",
    "max_iter = 100000\n",
    "diff_list = []\n",
    "\n",
    "# # do the loop\n",
    "while len(diff_list) < max_iter:\n",
    "    \n",
    "    # take random subset sample, frac=1 randomizes\n",
    "    data_subset = mosquitos_data.sample(frac=1)\n",
    "    \n",
    "    a_subset = data_subset.iloc[:sample_size]\n",
    "    b_subset = data_subset.iloc[sample_size + 1:]\n",
    "    \n",
    "    # calc diff and push it to list\n",
    "    diff = a_subset['Response'].mean() - b_subset['Response'].mean()\n",
    "    diff_list.append(diff)"
   ]
  },
  {
   "cell_type": "code",
   "execution_count": 272,
   "metadata": {},
   "outputs": [
    {
     "data": {
      "text/plain": [
       "<matplotlib.axes._subplots.AxesSubplot at 0x1cacc26ce80>"
      ]
     },
     "execution_count": 272,
     "metadata": {},
     "output_type": "execute_result"
    },
    {
     "data": {
      "image/png": "[encoded data removed]",
      "text/plain": [
       "<matplotlib.figure.Figure at 0x1cacb237fd0>"
      ]
     },
     "metadata": {},
     "output_type": "display_data"
    }
   ],
   "source": [
    "diff_df = pd.DataFrame({'diff':diff_list})\n",
    "sns.distplot(diff_df, kde_kws={'shade': True, 'label': 'PDF'}, hist=False)"
   ]
  },
  {
   "cell_type": "code",
   "execution_count": 271,
   "metadata": {},
   "outputs": [
    {
     "data": {
      "text/plain": [
       "<matplotlib.axes._subplots.AxesSubplot at 0x1cacc5547f0>"
      ]
     },
     "execution_count": 271,
     "metadata": {},
     "output_type": "execute_result"
    },
    {
     "data": {
      "image/png": "[encoded data removed]",
      "text/plain": [
       "<matplotlib.figure.Figure at 0x1cacc4dac50>"
      ]
     },
     "metadata": {},
     "output_type": "display_data"
    }
   ],
   "source": [
    "sns.distplot(diff_df, kde_kws={'cumulative': True, 'label': \"CDF\", 'shade': True}, hist=False)"
   ]
  }
 ],
 "metadata": {
  "kernelspec": {
   "display_name": "Python 3",
   "language": "python",
   "name": "python3"
  },
  "language_info": {
   "codemirror_mode": {
    "name": "ipython",
    "version": 3
   },
   "file_extension": ".py",
   "mimetype": "text/x-python",
   "name": "python",
   "nbconvert_exporter": "python",
   "pygments_lexer": "ipython3",
   "version": "3.6.4"
  }
 },
 "nbformat": 4,
 "nbformat_minor": 2
}
