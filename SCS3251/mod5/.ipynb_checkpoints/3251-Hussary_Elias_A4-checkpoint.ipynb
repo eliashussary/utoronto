{
 "cells": [
  {
   "cell_type": "markdown",
   "metadata": {},
   "source": [
    "## SC3251 - Assignment 4  \n",
    "**Name:** Hussary, Elias   \n",
    "**Assignment:** SC3251 - Module 4 & 5   \n",
    "**Date:** 2018-06-11\n",
    "\n",
    "---"
   ]
  },
  {
   "cell_type": "markdown",
   "metadata": {},
   "source": [
    "### Assignment Instructions\n",
    "Option 2.\n",
    "\n",
    "Section 6.5 of the OpenIntro Statistics textbook describes how simulation can assist when one of the assumptions / requirements of the Chi-square distribution are not met. The step-by-step explanation is presented in the chapter.\n",
    "\n",
    "The assignment is to follow the steps using Python.\n",
    "___"
   ]
  },
  {
   "cell_type": "code",
   "execution_count": 5,
   "metadata": {},
   "outputs": [],
   "source": [
    "%config IPCompleter.greedy=True # for better intellisense\n",
    "import numpy as np\n",
    "import pandas as pd\n",
    "import scipy.stats as stats\n",
    "from matplotlib import pyplot as plt, rcParams\n",
    "rcParams.update({'font.size': 16, 'figure.figsize': (10,6)}) # global formatting"
   ]
  },
  {
   "cell_type": "markdown",
   "metadata": {},
   "source": [
    "### Hypothesis Simulation\n",
    "\n",
    "People providing an organ for donation sometimes seek the help of a special “medical consultant”. These consultants assist the patient in all aspects of the surgery, with the goal of reducing the possibility of complications during the medical procedure and recovery. Patients might choose a consultant based in part on the historical complication rate of the consultant’s clients. **One consultant tried to attract patients by noting the average complication rate for liver donor surgeries in the US is about 10%, but her clients have only had 3 complications in the 62 liver donor surgeries she has facilitated.**\n",
    "She claims this is strong evidence that her work meaningfully contributes to reducing complications (and therefore she should be hired!).  \n"
   ]
  },
  {
   "cell_type": "markdown",
   "metadata": {},
   "source": [
    "#### 6.5.2 Generating the null distribution and p-value by simulation"
   ]
  },
  {
   "cell_type": "code",
   "execution_count": 3,
   "metadata": {},
   "outputs": [],
   "source": [
    "# do the simulation\n",
    "num_trials = 62\n",
    "complication_rate = 0.1\n",
    "iterations = 10000 \n",
    "trial_data = []\n",
    "\n",
    "while len(trial_data) < iterations:\n",
    "    simulation = np.random.random_sample((num_trials,))\n",
    "    failure_rate = sum(simulation < complication_rate) / num_trials\n",
    "    trial_data.append(failure_rate)"
   ]
  },
  {
   "cell_type": "code",
   "execution_count": 6,
   "metadata": {},
   "outputs": [
    {
     "data": {
      "text/plain": [
       "<matplotlib.lines.Line2D at 0x23e6a6d8cc0>"
      ]
     },
     "execution_count": 6,
     "metadata": {},
     "output_type": "execute_result"
    },
    {
     "data": {
      "image/png": "[encoded data removed]",
      "text/plain": [
       "<matplotlib.figure.Figure at 0x23e6a6d8828>"
      ]
     },
     "metadata": {},
     "output_type": "display_data"
    }
   ],
   "source": [
    "trial_df = pd.DataFrame({'trials': trial_data})\n",
    "hist_ax = trial_df.hist(bins=18, rwidth=0.5)\n",
    "plt.axvline(x=0.048, color='r', linewidth=5)"
   ]
  },
  {
   "cell_type": "markdown",
   "metadata": {},
   "source": [
    "The columns left to the red line represent sample proportions under the null distribution that provide at least as much evidence as p favoring the alternative hypothesis."
   ]
  },
  {
   "cell_type": "code",
   "execution_count": 7,
   "metadata": {},
   "outputs": [
    {
     "name": "stdout",
     "output_type": "stream",
     "text": [
      "Left Tail Count: 1251 P-value: 0.1251\n"
     ]
    }
   ],
   "source": [
    "# left_tail_count = sum(trial_df['trials'] <= 0.048) # -> ~444\n",
    "# leaving the above line as a reminder to not use any rounded floats as it cut off a large part of the sample. wasted hours...\n",
    "left_tail_count = sum(trial_df['trials'] <= (3.0/62))\n",
    "left_tail_p_value = left_tail_count / iterations\n",
    "print('Left Tail Count:', left_tail_count, 'P-value:', left_tail_p_value)"
   ]
  },
  {
   "cell_type": "markdown",
   "metadata": {},
   "source": [
    "The estimated p-value of ~0.1251 is greater than the significance level of 0.05. Therefore there isn't enough evidence to support the consultant's claim."
   ]
  },
  {
   "cell_type": "markdown",
   "metadata": {},
   "source": [
    "#### 6.5.3 Generating the exact null distribution and p-value"
   ]
  },
  {
   "cell_type": "code",
   "execution_count": 19,
   "metadata": {},
   "outputs": [
    {
     "data": {
      "text/plain": [
       "0.1209787267464617"
      ]
     },
     "execution_count": 19,
     "metadata": {},
     "output_type": "execute_result"
    }
   ],
   "source": [
    "stats.binom(62,.1).cdf(3)"
   ]
  },
  {
   "cell_type": "markdown",
   "metadata": {},
   "source": [
    "The exact p-value is very close to the simulated p-value. We do not reject the null hypothesis, and there is not statistically significant evidence to support the association.\n",
    "\n",
    "\n",
    "If it were plotted, the exact null distribution would look almost identical to the\n",
    "simulated null distribution shown above."
   ]
  },
  {
   "cell_type": "code",
   "execution_count": 58,
   "metadata": {},
   "outputs": [
    {
     "data": {
      "text/plain": [
       "array([[<matplotlib.axes._subplots.AxesSubplot object at 0x0000023E6ECDD080>]],\n",
       "      dtype=object)"
      ]
     },
     "execution_count": 58,
     "metadata": {},
     "output_type": "execute_result"
    },
    {
     "data": {
      "image/png": "[encoded data removed]",
      "text/plain": [
       "<matplotlib.figure.Figure at 0x23e6ec52828>"
      ]
     },
     "metadata": {},
     "output_type": "display_data"
    }
   ],
   "source": [
    "b_dist = np.random.binomial(62,0.1, size=10000) / 60\n",
    "b_df = pd.DataFrame({'b_dist': b_dist})\n",
    "\n",
    "b_df.hist(bins=18, rwidth=0.5)"
   ]
  }
 ],
 "metadata": {
  "kernelspec": {
   "display_name": "Python 3",
   "language": "python",
   "name": "python3"
  },
  "language_info": {
   "codemirror_mode": {
    "name": "ipython",
    "version": 3
   },
   "file_extension": ".py",
   "mimetype": "text/x-python",
   "name": "python",
   "nbconvert_exporter": "python",
   "pygments_lexer": "ipython3",
   "version": "3.6.4"
  }
 },
 "nbformat": 4,
 "nbformat_minor": 2
}
