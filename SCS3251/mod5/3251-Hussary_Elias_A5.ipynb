{
 "cells": [
  {
   "cell_type": "markdown",
   "metadata": {},
   "source": [
    "## SC3251 - Module 5  \n",
    "**Name:** Hussary, Elias   \n",
    "**Assignment:** SC3251 - Module 4 & 5   \n",
    "**Date:** 2018-06-11\n",
    "\n",
    "---"
   ]
  },
  {
   "cell_type": "markdown",
   "metadata": {},
   "source": [
    "### Assignment Instructions\n",
    "Option 2.\n",
    "\n",
    "Section 6.5 of the OpenIntro Statistics textbook describes how simulation can assist when one of the assumptions / requirements of the Chi-square distribution are not met. The step-by-step explanation is presented in the chapter.\n",
    "\n",
    "The assignment is to follow the steps using Python.\n",
    "___"
   ]
  },
  {
   "cell_type": "code",
   "execution_count": 14,
   "metadata": {},
   "outputs": [],
   "source": [
    "%config IPCompleter.greedy=True # for better intellisense\n",
    "import random as rd\n",
    "import numpy as np\n",
    "import pandas as pd\n",
    "import scipy.stats as stats\n",
    "from matplotlib import pyplot as plt, rcParams\n",
    "rcParams.update({'font.size': 16, 'figure.figsize': (10,6)}) # global formatting"
   ]
  },
  {
   "cell_type": "markdown",
   "metadata": {},
   "source": [
    "### Hypothesis Simulation\n",
    "\n",
    "People providing an organ for donation sometimes seek the help of a special “medical consultant”. These consultants assist the patient in all aspects of the surgery, with the goal of reducing the possibility of complications during the medical procedure and recovery. Patients might choose a consultant based in part on the historical complication rate of the consultant’s clients. **One consultant tried to attract patients by noting the average complication rate for liver donor surgeries in the US is about 10%, but her clients have only had 3 complications in the 62 liver donor surgeries she has facilitated.**\n",
    "She claims this is strong evidence that her work meaningfully contributes to reducing complications (and therefore she should be hired!).  \n"
   ]
  },
  {
   "cell_type": "code",
   "execution_count": 28,
   "metadata": {},
   "outputs": [],
   "source": [
    "# do the simulation\n",
    "num_trials = 62\n",
    "complication_rate = 0.1\n",
    "max_iter = 50000 # increasing iterations, txtbook used 10k\n",
    "trial_data = []\n",
    "\n",
    "while len(trial_data) < max_iter:\n",
    "    failure_pct = sum(np.random.rand(num_trials) < complication_rate) / num_trials\n",
    "    trial_data.append(failure_pct)"
   ]
  },
  {
   "cell_type": "code",
   "execution_count": 32,
   "metadata": {},
   "outputs": [
    {
     "name": "stdout",
     "output_type": "stream",
     "text": [
      "[<matplotlib.axes._subplots.AxesSubplot object at 0x000002086E168630>]\n"
     ]
    },
    {
     "data": {
      "image/png": "[encoded data removed]",
      "text/plain": [
       "<matplotlib.figure.Figure at 0x2086df6d400>"
      ]
     },
     "metadata": {},
     "output_type": "display_data"
    }
   ],
   "source": [
    "trial_df = pd.DataFrame({'trials': trial_data})\n",
    "hist_ax = trial_df.hist(bins=18, rwidth=0.5)\n",
    "print(hist_ax[0])"
   ]
  },
  {
   "cell_type": "code",
   "execution_count": 26,
   "metadata": {},
   "outputs": [
    {
     "data": {
      "text/plain": [
       "0.04838709677419355"
      ]
     },
     "execution_count": 26,
     "metadata": {},
     "output_type": "execute_result"
    }
   ],
   "source": []
  }
 ],
 "metadata": {
  "kernelspec": {
   "display_name": "Python 3",
   "language": "python",
   "name": "python3"
  },
  "language_info": {
   "codemirror_mode": {
    "name": "ipython",
    "version": 3
   },
   "file_extension": ".py",
   "mimetype": "text/x-python",
   "name": "python",
   "nbconvert_exporter": "python",
   "pygments_lexer": "ipython3",
   "version": "3.6.4"
  }
 },
 "nbformat": 4,
 "nbformat_minor": 2
}
