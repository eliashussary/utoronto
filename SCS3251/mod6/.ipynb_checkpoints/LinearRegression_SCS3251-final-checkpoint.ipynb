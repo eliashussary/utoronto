{
 "cells": [
  {
   "cell_type": "code",
   "execution_count": 1,
   "metadata": {
    "collapsed": true
   },
   "outputs": [],
   "source": [
    "import pandas as pd\n",
    "import statsmodels.formula.api as sm\n",
    "import statsmodels.graphics\n",
    "import matplotlib.pyplot as plt"
   ]
  },
  {
   "cell_type": "code",
   "execution_count": 2,
   "metadata": {},
   "outputs": [],
   "source": [
    "df = pd.read_csv('CreditRisk.csv')\n"
   ]
  },
  {
   "cell_type": "code",
   "execution_count": 3,
   "metadata": {},
   "outputs": [
    {
     "name": "stdout",
     "output_type": "stream",
     "text": [
      "Index(['City', 'CC_Payments', 'Wage', 'Cost_Living', 'Mtg', 'Default',\n",
      "       'Vacations', 'Ottawa', 'Vancouver'],\n",
      "      dtype='object')\n"
     ]
    }
   ],
   "source": [
    "print(df.columns)"
   ]
  },
  {
   "cell_type": "code",
   "execution_count": 4,
   "metadata": {},
   "outputs": [
    {
     "data": {
      "text/plain": [
       "<bound method NDFrame.head of           City  CC_Payments    Wage  Cost_Living    Mtg Default  Vacations  \\\n",
       "0      Toronto        11712   89925        44004  34237      No      13236   \n",
       "1      Toronto         4114   82327        33111  35928      No      10788   \n",
       "2      Toronto        15941   68972        12901  37791      No       8326   \n",
       "3      Toronto        13962   67582        21491  29385      No       7647   \n",
       "4      Toronto         6150   88983        43084  29614      No      10131   \n",
       "5      Toronto         5782   85385        27355  56747      No       9037   \n",
       "6      Toronto         7117   91249        49862  31569      No      10539   \n",
       "7      Toronto         5802   80215        40582  30924      No      12000   \n",
       "8      Toronto        15605   74182        24724  43513      No       4457   \n",
       "9      Toronto        14200   89746        25623  43643      No       8158   \n",
       "10     Toronto        14440   60521         5066  41720      No       7420   \n",
       "11     Toronto         7151   78214        35320  39816      No       6498   \n",
       "12     Toronto         3286   84221        44639  34563      No       8088   \n",
       "13     Toronto       -16934   73422        32082  51109     Yes      16054   \n",
       "14     Toronto         8199   81971        39724  25853      No       9227   \n",
       "15     Toronto        -6740   79190        41218  47514     Yes       3438   \n",
       "16     Toronto         6778   83865        33786  42834      No      10101   \n",
       "17     Toronto        10578   67786        11043  41092      No      11250   \n",
       "18     Toronto        17277   79644        27728  35940      No      13670   \n",
       "19     Toronto         7501   69385        34225  26347      No      12890   \n",
       "20     Toronto        20771   66762         9786  28275      No       9080   \n",
       "21     Toronto        31692   87986        38135  33734      No       4722   \n",
       "22     Toronto        13210   62432        19698  32900      No      14264   \n",
       "23     Toronto        -4894   89465        55985  39019     Yes       7727   \n",
       "24     Toronto        14644   65999        11867  45577      No       6004   \n",
       "25     Toronto        33749   76071        38971  11678      No      16395   \n",
       "26     Toronto         8420   83958        34535  36040      No       9202   \n",
       "27     Toronto        24683   80495        39501  25110      No      10017   \n",
       "28     Toronto         3976   68381        28159  42693      No       9353   \n",
       "29     Toronto        -5282   75345        46152  34125     Yes       8274   \n",
       "..         ...          ...     ...          ...    ...     ...        ...   \n",
       "270  Vancouver       -20315   89573        60825  43310     Yes      13388   \n",
       "271  Vancouver         3851   72186        26174  44139      No       6033   \n",
       "272  Vancouver        12046   89299        41102  37171      No      10275   \n",
       "273  Vancouver         9864   74340        21543  44489      No       9903   \n",
       "274  Vancouver        -4399   79489        26442  52889     Yes      11967   \n",
       "275  Vancouver        15413   84106        39915  39475      No       8484   \n",
       "276  Vancouver       -34151   88693        56235  65266     Yes       8757   \n",
       "277  Vancouver         1333   94415        59054  42620      No       8449   \n",
       "278  Vancouver        -9786   75527        26892  61107     Yes       7524   \n",
       "279  Vancouver       -10188   76522        35370  43204     Yes      13508   \n",
       "280  Vancouver       -15171   70676        33432  56742     Yes      12832   \n",
       "281  Vancouver       -22023   81381        37037  70585     Yes      11602   \n",
       "282  Vancouver         -571   94093        43941  45507     Yes      12086   \n",
       "283  Vancouver         -253   86700        43886  41135     Yes       1568   \n",
       "284  Vancouver        11534   82715        33038  50714      No       8090   \n",
       "285  Vancouver        -9561   70200        11726  63521     Yes      10132   \n",
       "286  Vancouver       -25996   94761        60366  50986     Yes      10211   \n",
       "287  Vancouver        22644   84778        32112  41301      No       7367   \n",
       "288  Vancouver         1788   84567        49591  37663      No      10427   \n",
       "289  Vancouver       -17720   83928        47651  43342     Yes       1550   \n",
       "290  Vancouver       -27556   82448        48417  59867     Yes       7781   \n",
       "291  Vancouver       -21876   79199        44644  57137     Yes       3913   \n",
       "292  Vancouver       -15940   91952        54869  55986     Yes      10248   \n",
       "293  Vancouver       -16688  104823        72890  53415     Yes       7999   \n",
       "294  Vancouver       -12577   78144        36769  56988     Yes      11295   \n",
       "295  Vancouver         -821   83835        40586  45756     Yes       9250   \n",
       "296  Vancouver        -2637   94408        40667  56616     Yes       6842   \n",
       "297  Vancouver       -27596   69867        27621  72595     Yes       8249   \n",
       "298  Vancouver         1875   80345        36048  40150      No       8091   \n",
       "299  Vancouver        -4643   72527        18416  49802     Yes       9926   \n",
       "\n",
       "     Ottawa  Vancouver  \n",
       "0         0          0  \n",
       "1         0          0  \n",
       "2         0          0  \n",
       "3         0          0  \n",
       "4         0          0  \n",
       "5         0          0  \n",
       "6         0          0  \n",
       "7         0          0  \n",
       "8         0          0  \n",
       "9         0          0  \n",
       "10        0          0  \n",
       "11        0          0  \n",
       "12        0          0  \n",
       "13        0          0  \n",
       "14        0          0  \n",
       "15        0          0  \n",
       "16        0          0  \n",
       "17        0          0  \n",
       "18        0          0  \n",
       "19        0          0  \n",
       "20        0          0  \n",
       "21        0          0  \n",
       "22        0          0  \n",
       "23        0          0  \n",
       "24        0          0  \n",
       "25        0          0  \n",
       "26        0          0  \n",
       "27        0          0  \n",
       "28        0          0  \n",
       "29        0          0  \n",
       "..      ...        ...  \n",
       "270       0          1  \n",
       "271       0          1  \n",
       "272       0          1  \n",
       "273       0          1  \n",
       "274       0          1  \n",
       "275       0          1  \n",
       "276       0          1  \n",
       "277       0          1  \n",
       "278       0          1  \n",
       "279       0          1  \n",
       "280       0          1  \n",
       "281       0          1  \n",
       "282       0          1  \n",
       "283       0          1  \n",
       "284       0          1  \n",
       "285       0          1  \n",
       "286       0          1  \n",
       "287       0          1  \n",
       "288       0          1  \n",
       "289       0          1  \n",
       "290       0          1  \n",
       "291       0          1  \n",
       "292       0          1  \n",
       "293       0          1  \n",
       "294       0          1  \n",
       "295       0          1  \n",
       "296       0          1  \n",
       "297       0          1  \n",
       "298       0          1  \n",
       "299       0          1  \n",
       "\n",
       "[300 rows x 9 columns]>"
      ]
     },
     "execution_count": 4,
     "metadata": {},
     "output_type": "execute_result"
    }
   ],
   "source": [
    "df.head"
   ]
  },
  {
   "cell_type": "code",
   "execution_count": 5,
   "metadata": {},
   "outputs": [
    {
     "data": {
      "image/png": "[encoded data removed]",
      "text/plain": [
       "<matplotlib.figure.Figure at 0x1096e42b0>"
      ]
     },
     "metadata": {},
     "output_type": "display_data"
    }
   ],
   "source": [
    "plt.scatter( df.Wage, df.Cost_Living\n",
    "    ,marker=\"o\")\n",
    "plt.show()"
   ]
  },
  {
   "cell_type": "code",
   "execution_count": 6,
   "metadata": {},
   "outputs": [
    {
     "data": {
      "text/html": [
       "<table class=\"simpletable\">\n",
       "<caption>OLS Regression Results</caption>\n",
       "<tr>\n",
       "  <th>Dep. Variable:</th>         <td>df.Wage</td>     <th>  R-squared:         </th> <td>   0.309</td>\n",
       "</tr>\n",
       "<tr>\n",
       "  <th>Model:</th>                   <td>OLS</td>       <th>  Adj. R-squared:    </th> <td>   0.307</td>\n",
       "</tr>\n",
       "<tr>\n",
       "  <th>Method:</th>             <td>Least Squares</td>  <th>  F-statistic:       </th> <td>   133.4</td>\n",
       "</tr>\n",
       "<tr>\n",
       "  <th>Date:</th>             <td>Tue, 26 Jun 2018</td> <th>  Prob (F-statistic):</th> <td>9.44e-26</td>\n",
       "</tr>\n",
       "<tr>\n",
       "  <th>Time:</th>                 <td>00:02:23</td>     <th>  Log-Likelihood:    </th> <td> -3187.5</td>\n",
       "</tr>\n",
       "<tr>\n",
       "  <th>No. Observations:</th>      <td>   300</td>      <th>  AIC:               </th> <td>   6379.</td>\n",
       "</tr>\n",
       "<tr>\n",
       "  <th>Df Residuals:</th>          <td>   298</td>      <th>  BIC:               </th> <td>   6386.</td>\n",
       "</tr>\n",
       "<tr>\n",
       "  <th>Df Model:</th>              <td>     1</td>      <th>                     </th>     <td> </td>   \n",
       "</tr>\n",
       "<tr>\n",
       "  <th>Covariance Type:</th>      <td>nonrobust</td>    <th>                     </th>     <td> </td>   \n",
       "</tr>\n",
       "</table>\n",
       "<table class=\"simpletable\">\n",
       "<tr>\n",
       "         <td></td>           <th>coef</th>     <th>std err</th>      <th>t</th>      <th>P>|t|</th>  <th>[0.025</th>    <th>0.975]</th>  \n",
       "</tr>\n",
       "<tr>\n",
       "  <th>Intercept</th>      <td>  6.62e+04</td> <td> 1753.250</td> <td>   37.761</td> <td> 0.000</td> <td> 6.28e+04</td> <td> 6.97e+04</td>\n",
       "</tr>\n",
       "<tr>\n",
       "  <th>df.Cost_Living</th> <td>    0.5318</td> <td>    0.046</td> <td>   11.550</td> <td> 0.000</td> <td>    0.441</td> <td>    0.622</td>\n",
       "</tr>\n",
       "</table>\n",
       "<table class=\"simpletable\">\n",
       "<tr>\n",
       "  <th>Omnibus:</th>       <td>13.055</td> <th>  Durbin-Watson:     </th> <td>   0.801</td>\n",
       "</tr>\n",
       "<tr>\n",
       "  <th>Prob(Omnibus):</th> <td> 0.001</td> <th>  Jarque-Bera (JB):  </th> <td>  13.041</td>\n",
       "</tr>\n",
       "<tr>\n",
       "  <th>Skew:</th>          <td> 0.471</td> <th>  Prob(JB):          </th> <td> 0.00147</td>\n",
       "</tr>\n",
       "<tr>\n",
       "  <th>Kurtosis:</th>      <td> 2.607</td> <th>  Cond. No.          </th> <td>1.16e+05</td>\n",
       "</tr>\n",
       "</table>"
      ],
      "text/plain": [
       "<class 'statsmodels.iolib.summary.Summary'>\n",
       "\"\"\"\n",
       "                            OLS Regression Results                            \n",
       "==============================================================================\n",
       "Dep. Variable:                df.Wage   R-squared:                       0.309\n",
       "Model:                            OLS   Adj. R-squared:                  0.307\n",
       "Method:                 Least Squares   F-statistic:                     133.4\n",
       "Date:                Tue, 26 Jun 2018   Prob (F-statistic):           9.44e-26\n",
       "Time:                        00:02:23   Log-Likelihood:                -3187.5\n",
       "No. Observations:                 300   AIC:                             6379.\n",
       "Df Residuals:                     298   BIC:                             6386.\n",
       "Df Model:                           1                                         \n",
       "Covariance Type:            nonrobust                                         \n",
       "==================================================================================\n",
       "                     coef    std err          t      P>|t|      [0.025      0.975]\n",
       "----------------------------------------------------------------------------------\n",
       "Intercept        6.62e+04   1753.250     37.761      0.000    6.28e+04    6.97e+04\n",
       "df.Cost_Living     0.5318      0.046     11.550      0.000       0.441       0.622\n",
       "==============================================================================\n",
       "Omnibus:                       13.055   Durbin-Watson:                   0.801\n",
       "Prob(Omnibus):                  0.001   Jarque-Bera (JB):               13.041\n",
       "Skew:                           0.471   Prob(JB):                      0.00147\n",
       "Kurtosis:                       2.607   Cond. No.                     1.16e+05\n",
       "==============================================================================\n",
       "\n",
       "Warnings:\n",
       "[1] Standard Errors assume that the covariance matrix of the errors is correctly specified.\n",
       "[2] The condition number is large, 1.16e+05. This might indicate that there are\n",
       "strong multicollinearity or other numerical problems.\n",
       "\"\"\""
      ]
     },
     "execution_count": 6,
     "metadata": {},
     "output_type": "execute_result"
    }
   ],
   "source": [
    "#Regression with intercept\n",
    "result = sm.ols(formula='df.Wage ~ df.Cost_Living', data=df).fit()\n",
    "result.summary()"
   ]
  },
  {
   "cell_type": "code",
   "execution_count": 7,
   "metadata": {
    "scrolled": true
   },
   "outputs": [
    {
     "data": {
      "image/png": "[encoded data removed]",
      "text/plain": [
       "<matplotlib.figure.Figure at 0x109c3a550>"
      ]
     },
     "metadata": {},
     "output_type": "display_data"
    }
   ],
   "source": [
    "#Graphical Output\n",
    "plt.plot(df.Cost_Living, df.Wage, 'o', label='Original data', markersize=3)\n",
    "intercept, slope = result.params\n",
    "plt.plot(df.Cost_Living, intercept + slope * df.Cost_Living , 'r-', label='Fitted Line')\n",
    "plt.legend()\n",
    "plt.show()"
   ]
  },
  {
   "cell_type": "code",
   "execution_count": 8,
   "metadata": {},
   "outputs": [
    {
     "data": {
      "text/plain": [
       "(0.53179387198847394, 66203.769087974142)"
      ]
     },
     "execution_count": 8,
     "metadata": {},
     "output_type": "execute_result"
    }
   ],
   "source": [
    "#to verify\n",
    "slope, intercept"
   ]
  },
  {
   "cell_type": "code",
   "execution_count": 10,
   "metadata": {},
   "outputs": [
    {
     "data": {
      "text/html": [
       "<table class=\"simpletable\">\n",
       "<caption>OLS Regression Results</caption>\n",
       "<tr>\n",
       "  <th>Dep. Variable:</th>         <td>df.Wage</td>     <th>  R-squared:         </th> <td>   0.923</td> \n",
       "</tr>\n",
       "<tr>\n",
       "  <th>Model:</th>                   <td>OLS</td>       <th>  Adj. R-squared:    </th> <td>   0.922</td> \n",
       "</tr>\n",
       "<tr>\n",
       "  <th>Method:</th>             <td>Least Squares</td>  <th>  F-statistic:       </th> <td>   3570.</td> \n",
       "</tr>\n",
       "<tr>\n",
       "  <th>Date:</th>             <td>Tue, 26 Jun 2018</td> <th>  Prob (F-statistic):</th> <td>2.76e-168</td>\n",
       "</tr>\n",
       "<tr>\n",
       "  <th>Time:</th>                 <td>00:03:34</td>     <th>  Log-Likelihood:    </th> <td> -3450.8</td> \n",
       "</tr>\n",
       "<tr>\n",
       "  <th>No. Observations:</th>      <td>   300</td>      <th>  AIC:               </th> <td>   6904.</td> \n",
       "</tr>\n",
       "<tr>\n",
       "  <th>Df Residuals:</th>          <td>   299</td>      <th>  BIC:               </th> <td>   6907.</td> \n",
       "</tr>\n",
       "<tr>\n",
       "  <th>Df Model:</th>              <td>     1</td>      <th>                     </th>     <td> </td>    \n",
       "</tr>\n",
       "<tr>\n",
       "  <th>Covariance Type:</th>      <td>nonrobust</td>    <th>                     </th>     <td> </td>    \n",
       "</tr>\n",
       "</table>\n",
       "<table class=\"simpletable\">\n",
       "<tr>\n",
       "         <td></td>           <th>coef</th>     <th>std err</th>      <th>t</th>      <th>P>|t|</th>  <th>[0.025</th>    <th>0.975]</th>  \n",
       "</tr>\n",
       "<tr>\n",
       "  <th>df.Cost_Living</th> <td>    2.1735</td> <td>    0.036</td> <td>   59.753</td> <td> 0.000</td> <td>    2.102</td> <td>    2.245</td>\n",
       "</tr>\n",
       "</table>\n",
       "<table class=\"simpletable\">\n",
       "<tr>\n",
       "  <th>Omnibus:</th>       <td> 4.635</td> <th>  Durbin-Watson:     </th> <td>   1.236</td>\n",
       "</tr>\n",
       "<tr>\n",
       "  <th>Prob(Omnibus):</th> <td> 0.098</td> <th>  Jarque-Bera (JB):  </th> <td>   4.522</td>\n",
       "</tr>\n",
       "<tr>\n",
       "  <th>Skew:</th>          <td>-0.300</td> <th>  Prob(JB):          </th> <td>   0.104</td>\n",
       "</tr>\n",
       "<tr>\n",
       "  <th>Kurtosis:</th>      <td> 3.030</td> <th>  Cond. No.          </th> <td>    1.00</td>\n",
       "</tr>\n",
       "</table>"
      ],
      "text/plain": [
       "<class 'statsmodels.iolib.summary.Summary'>\n",
       "\"\"\"\n",
       "                            OLS Regression Results                            \n",
       "==============================================================================\n",
       "Dep. Variable:                df.Wage   R-squared:                       0.923\n",
       "Model:                            OLS   Adj. R-squared:                  0.922\n",
       "Method:                 Least Squares   F-statistic:                     3570.\n",
       "Date:                Tue, 26 Jun 2018   Prob (F-statistic):          2.76e-168\n",
       "Time:                        00:03:34   Log-Likelihood:                -3450.8\n",
       "No. Observations:                 300   AIC:                             6904.\n",
       "Df Residuals:                     299   BIC:                             6907.\n",
       "Df Model:                           1                                         \n",
       "Covariance Type:            nonrobust                                         \n",
       "==================================================================================\n",
       "                     coef    std err          t      P>|t|      [0.025      0.975]\n",
       "----------------------------------------------------------------------------------\n",
       "df.Cost_Living     2.1735      0.036     59.753      0.000       2.102       2.245\n",
       "==============================================================================\n",
       "Omnibus:                        4.635   Durbin-Watson:                   1.236\n",
       "Prob(Omnibus):                  0.098   Jarque-Bera (JB):                4.522\n",
       "Skew:                          -0.300   Prob(JB):                        0.104\n",
       "Kurtosis:                       3.030   Cond. No.                         1.00\n",
       "==============================================================================\n",
       "\n",
       "Warnings:\n",
       "[1] Standard Errors assume that the covariance matrix of the errors is correctly specified.\n",
       "\"\"\""
      ]
     },
     "execution_count": 10,
     "metadata": {},
     "output_type": "execute_result"
    }
   ],
   "source": [
    "#Regression without intercept\n",
    "result2 = sm.ols(formula='df.Wage ~ df.Cost_Living +0', data=df).fit()\n",
    "result2.summary()"
   ]
  },
  {
   "cell_type": "code",
   "execution_count": 11,
   "metadata": {},
   "outputs": [
    {
     "data": {
      "text/html": [
       "<table class=\"simpletable\">\n",
       "<caption>OLS Regression Results</caption>\n",
       "<tr>\n",
       "  <th>Dep. Variable:</th>         <td>df.Wage</td>     <th>  R-squared:         </th> <td>   0.923</td> \n",
       "</tr>\n",
       "<tr>\n",
       "  <th>Model:</th>                   <td>OLS</td>       <th>  Adj. R-squared:    </th> <td>   0.922</td> \n",
       "</tr>\n",
       "<tr>\n",
       "  <th>Method:</th>             <td>Least Squares</td>  <th>  F-statistic:       </th> <td>   3570.</td> \n",
       "</tr>\n",
       "<tr>\n",
       "  <th>Date:</th>             <td>Tue, 26 Jun 2018</td> <th>  Prob (F-statistic):</th> <td>2.76e-168</td>\n",
       "</tr>\n",
       "<tr>\n",
       "  <th>Time:</th>                 <td>00:04:25</td>     <th>  Log-Likelihood:    </th> <td> -3450.8</td> \n",
       "</tr>\n",
       "<tr>\n",
       "  <th>No. Observations:</th>      <td>   300</td>      <th>  AIC:               </th> <td>   6904.</td> \n",
       "</tr>\n",
       "<tr>\n",
       "  <th>Df Residuals:</th>          <td>   299</td>      <th>  BIC:               </th> <td>   6907.</td> \n",
       "</tr>\n",
       "<tr>\n",
       "  <th>Df Model:</th>              <td>     1</td>      <th>                     </th>     <td> </td>    \n",
       "</tr>\n",
       "<tr>\n",
       "  <th>Covariance Type:</th>      <td>nonrobust</td>    <th>                     </th>     <td> </td>    \n",
       "</tr>\n",
       "</table>\n",
       "<table class=\"simpletable\">\n",
       "<tr>\n",
       "         <td></td>           <th>coef</th>     <th>std err</th>      <th>t</th>      <th>P>|t|</th>  <th>[0.025</th>    <th>0.975]</th>  \n",
       "</tr>\n",
       "<tr>\n",
       "  <th>df.Cost_Living</th> <td>    2.1735</td> <td>    0.036</td> <td>   59.753</td> <td> 0.000</td> <td>    2.102</td> <td>    2.245</td>\n",
       "</tr>\n",
       "</table>\n",
       "<table class=\"simpletable\">\n",
       "<tr>\n",
       "  <th>Omnibus:</th>       <td> 4.635</td> <th>  Durbin-Watson:     </th> <td>   1.236</td>\n",
       "</tr>\n",
       "<tr>\n",
       "  <th>Prob(Omnibus):</th> <td> 0.098</td> <th>  Jarque-Bera (JB):  </th> <td>   4.522</td>\n",
       "</tr>\n",
       "<tr>\n",
       "  <th>Skew:</th>          <td>-0.300</td> <th>  Prob(JB):          </th> <td>   0.104</td>\n",
       "</tr>\n",
       "<tr>\n",
       "  <th>Kurtosis:</th>      <td> 3.030</td> <th>  Cond. No.          </th> <td>    1.00</td>\n",
       "</tr>\n",
       "</table>"
      ],
      "text/plain": [
       "<class 'statsmodels.iolib.summary.Summary'>\n",
       "\"\"\"\n",
       "                            OLS Regression Results                            \n",
       "==============================================================================\n",
       "Dep. Variable:                df.Wage   R-squared:                       0.923\n",
       "Model:                            OLS   Adj. R-squared:                  0.922\n",
       "Method:                 Least Squares   F-statistic:                     3570.\n",
       "Date:                Tue, 26 Jun 2018   Prob (F-statistic):          2.76e-168\n",
       "Time:                        00:04:25   Log-Likelihood:                -3450.8\n",
       "No. Observations:                 300   AIC:                             6904.\n",
       "Df Residuals:                     299   BIC:                             6907.\n",
       "Df Model:                           1                                         \n",
       "Covariance Type:            nonrobust                                         \n",
       "==================================================================================\n",
       "                     coef    std err          t      P>|t|      [0.025      0.975]\n",
       "----------------------------------------------------------------------------------\n",
       "df.Cost_Living     2.1735      0.036     59.753      0.000       2.102       2.245\n",
       "==============================================================================\n",
       "Omnibus:                        4.635   Durbin-Watson:                   1.236\n",
       "Prob(Omnibus):                  0.098   Jarque-Bera (JB):                4.522\n",
       "Skew:                          -0.300   Prob(JB):                        0.104\n",
       "Kurtosis:                       3.030   Cond. No.                         1.00\n",
       "==============================================================================\n",
       "\n",
       "Warnings:\n",
       "[1] Standard Errors assume that the covariance matrix of the errors is correctly specified.\n",
       "\"\"\""
      ]
     },
     "execution_count": 11,
     "metadata": {},
     "output_type": "execute_result"
    }
   ],
   "source": [
    "#Regression without intercept (another way)\n",
    "result3 = sm.ols(formula='df.Wage ~ df.Cost_Living -1', data=df).fit()\n",
    "result3.summary()"
   ]
  },
  {
   "cell_type": "code",
   "execution_count": null,
   "metadata": {
    "collapsed": true
   },
   "outputs": [],
   "source": []
  }
 ],
 "metadata": {
  "anaconda-cloud": {},
  "kernelspec": {
   "display_name": "Python 3",
   "language": "python",
   "name": "python3"
  },
  "language_info": {
   "codemirror_mode": {
    "name": "ipython",
    "version": 3
   },
   "file_extension": ".py",
   "mimetype": "text/x-python",
   "name": "python",
   "nbconvert_exporter": "python",
   "pygments_lexer": "ipython3",
   "version": "3.6.3"
  }
 },
 "nbformat": 4,
 "nbformat_minor": 1
}
